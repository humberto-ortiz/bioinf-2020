{
 "cells": [
  {
   "cell_type": "markdown",
   "metadata": {},
   "source": [
    "# Rabbits and Recurrence Relations"
   ]
  },
  {
   "cell_type": "code",
   "execution_count": 1,
   "metadata": {},
   "outputs": [],
   "source": [
    "f1 = 1\n",
    "f2 = 1\n",
    "\n",
    "f3 = f2 + f1\n"
   ]
  },
  {
   "cell_type": "markdown",
   "metadata": {},
   "source": [
    "..."
   ]
  },
  {
   "cell_type": "code",
   "execution_count": 5,
   "metadata": {},
   "outputs": [],
   "source": [
    "def fib(n):\n",
    "    print(\"fib(\",n,\")\")\n",
    "    if n < 3:\n",
    "        return 1\n",
    "    else:\n",
    "        return fib(n-1) + fib(n-2)"
   ]
  },
  {
   "cell_type": "code",
   "execution_count": 6,
   "metadata": {},
   "outputs": [
    {
     "name": "stdout",
     "output_type": "stream",
     "text": [
      "fib( 3 )\n",
      "fib( 2 )\n",
      "fib( 1 )\n"
     ]
    },
    {
     "data": {
      "text/plain": [
       "2"
      ]
     },
     "execution_count": 6,
     "metadata": {},
     "output_type": "execute_result"
    }
   ],
   "source": [
    "fib(3)"
   ]
  },
  {
   "cell_type": "code",
   "execution_count": 7,
   "metadata": {},
   "outputs": [
    {
     "name": "stdout",
     "output_type": "stream",
     "text": [
      "fib( 4 )\n",
      "fib( 3 )\n",
      "fib( 2 )\n",
      "fib( 1 )\n",
      "fib( 2 )\n"
     ]
    },
    {
     "data": {
      "text/plain": [
       "3"
      ]
     },
     "execution_count": 7,
     "metadata": {},
     "output_type": "execute_result"
    }
   ],
   "source": [
    "fib(4)"
   ]
  },
  {
   "cell_type": "code",
   "execution_count": 8,
   "metadata": {},
   "outputs": [
    {
     "name": "stdout",
     "output_type": "stream",
     "text": [
      "fib( 5 )\n",
      "fib( 4 )\n",
      "fib( 3 )\n",
      "fib( 2 )\n",
      "fib( 1 )\n",
      "fib( 2 )\n",
      "fib( 3 )\n",
      "fib( 2 )\n",
      "fib( 1 )\n"
     ]
    },
    {
     "data": {
      "text/plain": [
       "5"
      ]
     },
     "execution_count": 8,
     "metadata": {},
     "output_type": "execute_result"
    }
   ],
   "source": [
    "fib(5)"
   ]
  },
  {
   "cell_type": "code",
   "execution_count": 9,
   "metadata": {},
   "outputs": [
    {
     "name": "stdout",
     "output_type": "stream",
     "text": [
      "fib( 6 )\n",
      "fib( 5 )\n",
      "fib( 4 )\n",
      "fib( 3 )\n",
      "fib( 2 )\n",
      "fib( 1 )\n",
      "fib( 2 )\n",
      "fib( 3 )\n",
      "fib( 2 )\n",
      "fib( 1 )\n",
      "fib( 4 )\n",
      "fib( 3 )\n",
      "fib( 2 )\n",
      "fib( 1 )\n",
      "fib( 2 )\n"
     ]
    },
    {
     "data": {
      "text/plain": [
       "8"
      ]
     },
     "execution_count": 9,
     "metadata": {},
     "output_type": "execute_result"
    }
   ],
   "source": [
    "fib(6)"
   ]
  },
  {
   "cell_type": "code",
   "execution_count": 10,
   "metadata": {},
   "outputs": [
    {
     "name": "stdout",
     "output_type": "stream",
     "text": [
      "fib( 13 )\n",
      "fib( 12 )\n",
      "fib( 11 )\n",
      "fib( 10 )\n",
      "fib( 9 )\n",
      "fib( 8 )\n",
      "fib( 7 )\n",
      "fib( 6 )\n",
      "fib( 5 )\n",
      "fib( 4 )\n",
      "fib( 3 )\n",
      "fib( 2 )\n",
      "fib( 1 )\n",
      "fib( 2 )\n",
      "fib( 3 )\n",
      "fib( 2 )\n",
      "fib( 1 )\n",
      "fib( 4 )\n",
      "fib( 3 )\n",
      "fib( 2 )\n",
      "fib( 1 )\n",
      "fib( 2 )\n",
      "fib( 5 )\n",
      "fib( 4 )\n",
      "fib( 3 )\n",
      "fib( 2 )\n",
      "fib( 1 )\n",
      "fib( 2 )\n",
      "fib( 3 )\n",
      "fib( 2 )\n",
      "fib( 1 )\n",
      "fib( 6 )\n",
      "fib( 5 )\n",
      "fib( 4 )\n",
      "fib( 3 )\n",
      "fib( 2 )\n",
      "fib( 1 )\n",
      "fib( 2 )\n",
      "fib( 3 )\n",
      "fib( 2 )\n",
      "fib( 1 )\n",
      "fib( 4 )\n",
      "fib( 3 )\n",
      "fib( 2 )\n",
      "fib( 1 )\n",
      "fib( 2 )\n",
      "fib( 7 )\n",
      "fib( 6 )\n",
      "fib( 5 )\n",
      "fib( 4 )\n",
      "fib( 3 )\n",
      "fib( 2 )\n",
      "fib( 1 )\n",
      "fib( 2 )\n",
      "fib( 3 )\n",
      "fib( 2 )\n",
      "fib( 1 )\n",
      "fib( 4 )\n",
      "fib( 3 )\n",
      "fib( 2 )\n",
      "fib( 1 )\n",
      "fib( 2 )\n",
      "fib( 5 )\n",
      "fib( 4 )\n",
      "fib( 3 )\n",
      "fib( 2 )\n",
      "fib( 1 )\n",
      "fib( 2 )\n",
      "fib( 3 )\n",
      "fib( 2 )\n",
      "fib( 1 )\n",
      "fib( 8 )\n",
      "fib( 7 )\n",
      "fib( 6 )\n",
      "fib( 5 )\n",
      "fib( 4 )\n",
      "fib( 3 )\n",
      "fib( 2 )\n",
      "fib( 1 )\n",
      "fib( 2 )\n",
      "fib( 3 )\n",
      "fib( 2 )\n",
      "fib( 1 )\n",
      "fib( 4 )\n",
      "fib( 3 )\n",
      "fib( 2 )\n",
      "fib( 1 )\n",
      "fib( 2 )\n",
      "fib( 5 )\n",
      "fib( 4 )\n",
      "fib( 3 )\n",
      "fib( 2 )\n",
      "fib( 1 )\n",
      "fib( 2 )\n",
      "fib( 3 )\n",
      "fib( 2 )\n",
      "fib( 1 )\n",
      "fib( 6 )\n",
      "fib( 5 )\n",
      "fib( 4 )\n",
      "fib( 3 )\n",
      "fib( 2 )\n",
      "fib( 1 )\n",
      "fib( 2 )\n",
      "fib( 3 )\n",
      "fib( 2 )\n",
      "fib( 1 )\n",
      "fib( 4 )\n",
      "fib( 3 )\n",
      "fib( 2 )\n",
      "fib( 1 )\n",
      "fib( 2 )\n",
      "fib( 9 )\n",
      "fib( 8 )\n",
      "fib( 7 )\n",
      "fib( 6 )\n",
      "fib( 5 )\n",
      "fib( 4 )\n",
      "fib( 3 )\n",
      "fib( 2 )\n",
      "fib( 1 )\n",
      "fib( 2 )\n",
      "fib( 3 )\n",
      "fib( 2 )\n",
      "fib( 1 )\n",
      "fib( 4 )\n",
      "fib( 3 )\n",
      "fib( 2 )\n",
      "fib( 1 )\n",
      "fib( 2 )\n",
      "fib( 5 )\n",
      "fib( 4 )\n",
      "fib( 3 )\n",
      "fib( 2 )\n",
      "fib( 1 )\n",
      "fib( 2 )\n",
      "fib( 3 )\n",
      "fib( 2 )\n",
      "fib( 1 )\n",
      "fib( 6 )\n",
      "fib( 5 )\n",
      "fib( 4 )\n",
      "fib( 3 )\n",
      "fib( 2 )\n",
      "fib( 1 )\n",
      "fib( 2 )\n",
      "fib( 3 )\n",
      "fib( 2 )\n",
      "fib( 1 )\n",
      "fib( 4 )\n",
      "fib( 3 )\n",
      "fib( 2 )\n",
      "fib( 1 )\n",
      "fib( 2 )\n",
      "fib( 7 )\n",
      "fib( 6 )\n",
      "fib( 5 )\n",
      "fib( 4 )\n",
      "fib( 3 )\n",
      "fib( 2 )\n",
      "fib( 1 )\n",
      "fib( 2 )\n",
      "fib( 3 )\n",
      "fib( 2 )\n",
      "fib( 1 )\n",
      "fib( 4 )\n",
      "fib( 3 )\n",
      "fib( 2 )\n",
      "fib( 1 )\n",
      "fib( 2 )\n",
      "fib( 5 )\n",
      "fib( 4 )\n",
      "fib( 3 )\n",
      "fib( 2 )\n",
      "fib( 1 )\n",
      "fib( 2 )\n",
      "fib( 3 )\n",
      "fib( 2 )\n",
      "fib( 1 )\n",
      "fib( 10 )\n",
      "fib( 9 )\n",
      "fib( 8 )\n",
      "fib( 7 )\n",
      "fib( 6 )\n",
      "fib( 5 )\n",
      "fib( 4 )\n",
      "fib( 3 )\n",
      "fib( 2 )\n",
      "fib( 1 )\n",
      "fib( 2 )\n",
      "fib( 3 )\n",
      "fib( 2 )\n",
      "fib( 1 )\n",
      "fib( 4 )\n",
      "fib( 3 )\n",
      "fib( 2 )\n",
      "fib( 1 )\n",
      "fib( 2 )\n",
      "fib( 5 )\n",
      "fib( 4 )\n",
      "fib( 3 )\n",
      "fib( 2 )\n",
      "fib( 1 )\n",
      "fib( 2 )\n",
      "fib( 3 )\n",
      "fib( 2 )\n",
      "fib( 1 )\n",
      "fib( 6 )\n",
      "fib( 5 )\n",
      "fib( 4 )\n",
      "fib( 3 )\n",
      "fib( 2 )\n",
      "fib( 1 )\n",
      "fib( 2 )\n",
      "fib( 3 )\n",
      "fib( 2 )\n",
      "fib( 1 )\n",
      "fib( 4 )\n",
      "fib( 3 )\n",
      "fib( 2 )\n",
      "fib( 1 )\n",
      "fib( 2 )\n",
      "fib( 7 )\n",
      "fib( 6 )\n",
      "fib( 5 )\n",
      "fib( 4 )\n",
      "fib( 3 )\n",
      "fib( 2 )\n",
      "fib( 1 )\n",
      "fib( 2 )\n",
      "fib( 3 )\n",
      "fib( 2 )\n",
      "fib( 1 )\n",
      "fib( 4 )\n",
      "fib( 3 )\n",
      "fib( 2 )\n",
      "fib( 1 )\n",
      "fib( 2 )\n",
      "fib( 5 )\n",
      "fib( 4 )\n",
      "fib( 3 )\n",
      "fib( 2 )\n",
      "fib( 1 )\n",
      "fib( 2 )\n",
      "fib( 3 )\n",
      "fib( 2 )\n",
      "fib( 1 )\n",
      "fib( 8 )\n",
      "fib( 7 )\n",
      "fib( 6 )\n",
      "fib( 5 )\n",
      "fib( 4 )\n",
      "fib( 3 )\n",
      "fib( 2 )\n",
      "fib( 1 )\n",
      "fib( 2 )\n",
      "fib( 3 )\n",
      "fib( 2 )\n",
      "fib( 1 )\n",
      "fib( 4 )\n",
      "fib( 3 )\n",
      "fib( 2 )\n",
      "fib( 1 )\n",
      "fib( 2 )\n",
      "fib( 5 )\n",
      "fib( 4 )\n",
      "fib( 3 )\n",
      "fib( 2 )\n",
      "fib( 1 )\n",
      "fib( 2 )\n",
      "fib( 3 )\n",
      "fib( 2 )\n",
      "fib( 1 )\n",
      "fib( 6 )\n",
      "fib( 5 )\n",
      "fib( 4 )\n",
      "fib( 3 )\n",
      "fib( 2 )\n",
      "fib( 1 )\n",
      "fib( 2 )\n",
      "fib( 3 )\n",
      "fib( 2 )\n",
      "fib( 1 )\n",
      "fib( 4 )\n",
      "fib( 3 )\n",
      "fib( 2 )\n",
      "fib( 1 )\n",
      "fib( 2 )\n",
      "fib( 11 )\n",
      "fib( 10 )\n",
      "fib( 9 )\n",
      "fib( 8 )\n",
      "fib( 7 )\n",
      "fib( 6 )\n",
      "fib( 5 )\n",
      "fib( 4 )\n",
      "fib( 3 )\n",
      "fib( 2 )\n",
      "fib( 1 )\n",
      "fib( 2 )\n",
      "fib( 3 )\n",
      "fib( 2 )\n",
      "fib( 1 )\n",
      "fib( 4 )\n",
      "fib( 3 )\n",
      "fib( 2 )\n",
      "fib( 1 )\n",
      "fib( 2 )\n",
      "fib( 5 )\n",
      "fib( 4 )\n",
      "fib( 3 )\n",
      "fib( 2 )\n",
      "fib( 1 )\n",
      "fib( 2 )\n",
      "fib( 3 )\n",
      "fib( 2 )\n",
      "fib( 1 )\n",
      "fib( 6 )\n",
      "fib( 5 )\n",
      "fib( 4 )\n",
      "fib( 3 )\n",
      "fib( 2 )\n",
      "fib( 1 )\n",
      "fib( 2 )\n",
      "fib( 3 )\n",
      "fib( 2 )\n",
      "fib( 1 )\n",
      "fib( 4 )\n",
      "fib( 3 )\n",
      "fib( 2 )\n",
      "fib( 1 )\n",
      "fib( 2 )\n",
      "fib( 7 )\n",
      "fib( 6 )\n",
      "fib( 5 )\n",
      "fib( 4 )\n",
      "fib( 3 )\n",
      "fib( 2 )\n",
      "fib( 1 )\n",
      "fib( 2 )\n",
      "fib( 3 )\n",
      "fib( 2 )\n",
      "fib( 1 )\n",
      "fib( 4 )\n",
      "fib( 3 )\n",
      "fib( 2 )\n",
      "fib( 1 )\n",
      "fib( 2 )\n",
      "fib( 5 )\n",
      "fib( 4 )\n",
      "fib( 3 )\n",
      "fib( 2 )\n",
      "fib( 1 )\n",
      "fib( 2 )\n",
      "fib( 3 )\n",
      "fib( 2 )\n",
      "fib( 1 )\n",
      "fib( 8 )\n",
      "fib( 7 )\n",
      "fib( 6 )\n",
      "fib( 5 )\n",
      "fib( 4 )\n",
      "fib( 3 )\n",
      "fib( 2 )\n",
      "fib( 1 )\n",
      "fib( 2 )\n",
      "fib( 3 )\n",
      "fib( 2 )\n",
      "fib( 1 )\n",
      "fib( 4 )\n",
      "fib( 3 )\n",
      "fib( 2 )\n",
      "fib( 1 )\n",
      "fib( 2 )\n",
      "fib( 5 )\n",
      "fib( 4 )\n",
      "fib( 3 )\n",
      "fib( 2 )\n",
      "fib( 1 )\n",
      "fib( 2 )\n",
      "fib( 3 )\n",
      "fib( 2 )\n",
      "fib( 1 )\n",
      "fib( 6 )\n",
      "fib( 5 )\n",
      "fib( 4 )\n",
      "fib( 3 )\n",
      "fib( 2 )\n",
      "fib( 1 )\n",
      "fib( 2 )\n",
      "fib( 3 )\n",
      "fib( 2 )\n",
      "fib( 1 )\n",
      "fib( 4 )\n",
      "fib( 3 )\n",
      "fib( 2 )\n",
      "fib( 1 )\n",
      "fib( 2 )\n",
      "fib( 9 )\n",
      "fib( 8 )\n",
      "fib( 7 )\n",
      "fib( 6 )\n",
      "fib( 5 )\n",
      "fib( 4 )\n",
      "fib( 3 )\n",
      "fib( 2 )\n",
      "fib( 1 )\n",
      "fib( 2 )\n",
      "fib( 3 )\n",
      "fib( 2 )\n",
      "fib( 1 )\n",
      "fib( 4 )\n",
      "fib( 3 )\n",
      "fib( 2 )\n",
      "fib( 1 )\n",
      "fib( 2 )\n",
      "fib( 5 )\n",
      "fib( 4 )\n",
      "fib( 3 )\n",
      "fib( 2 )\n",
      "fib( 1 )\n",
      "fib( 2 )\n",
      "fib( 3 )\n",
      "fib( 2 )\n",
      "fib( 1 )\n",
      "fib( 6 )\n",
      "fib( 5 )\n",
      "fib( 4 )\n",
      "fib( 3 )\n",
      "fib( 2 )\n",
      "fib( 1 )\n",
      "fib( 2 )\n",
      "fib( 3 )\n",
      "fib( 2 )\n",
      "fib( 1 )\n",
      "fib( 4 )\n",
      "fib( 3 )\n",
      "fib( 2 )\n",
      "fib( 1 )\n",
      "fib( 2 )\n",
      "fib( 7 )\n",
      "fib( 6 )\n",
      "fib( 5 )\n",
      "fib( 4 )\n",
      "fib( 3 )\n",
      "fib( 2 )\n",
      "fib( 1 )\n",
      "fib( 2 )\n",
      "fib( 3 )\n",
      "fib( 2 )\n",
      "fib( 1 )\n",
      "fib( 4 )\n",
      "fib( 3 )\n",
      "fib( 2 )\n",
      "fib( 1 )\n",
      "fib( 2 )\n",
      "fib( 5 )\n",
      "fib( 4 )\n",
      "fib( 3 )\n",
      "fib( 2 )\n",
      "fib( 1 )\n",
      "fib( 2 )\n",
      "fib( 3 )\n",
      "fib( 2 )\n",
      "fib( 1 )\n"
     ]
    },
    {
     "data": {
      "text/plain": [
       "233"
      ]
     },
     "execution_count": 10,
     "metadata": {},
     "output_type": "execute_result"
    }
   ],
   "source": [
    "fib(13)"
   ]
  },
  {
   "cell_type": "code",
   "execution_count": 34,
   "metadata": {},
   "outputs": [],
   "source": [
    "tabla = {1: 1, 2: 1}\n"
   ]
  },
  {
   "cell_type": "code",
   "execution_count": 12,
   "metadata": {},
   "outputs": [],
   "source": [
    "tabla[1] = 1"
   ]
  },
  {
   "cell_type": "code",
   "execution_count": 13,
   "metadata": {},
   "outputs": [
    {
     "data": {
      "text/plain": [
       "{1: 1}"
      ]
     },
     "execution_count": 13,
     "metadata": {},
     "output_type": "execute_result"
    }
   ],
   "source": [
    "tabla"
   ]
  },
  {
   "cell_type": "code",
   "execution_count": 14,
   "metadata": {},
   "outputs": [],
   "source": [
    "tabla[2] = 1"
   ]
  },
  {
   "cell_type": "code",
   "execution_count": 15,
   "metadata": {},
   "outputs": [
    {
     "data": {
      "text/plain": [
       "{1: 1, 2: 1}"
      ]
     },
     "execution_count": 15,
     "metadata": {},
     "output_type": "execute_result"
    }
   ],
   "source": [
    "tabla"
   ]
  },
  {
   "cell_type": "code",
   "execution_count": 16,
   "metadata": {},
   "outputs": [
    {
     "data": {
      "text/plain": [
       "1"
      ]
     },
     "execution_count": 16,
     "metadata": {},
     "output_type": "execute_result"
    }
   ],
   "source": [
    "tabla[1]"
   ]
  },
  {
   "cell_type": "code",
   "execution_count": 17,
   "metadata": {},
   "outputs": [
    {
     "data": {
      "text/plain": [
       "1"
      ]
     },
     "execution_count": 17,
     "metadata": {},
     "output_type": "execute_result"
    }
   ],
   "source": [
    "tabla[2]"
   ]
  },
  {
   "cell_type": "code",
   "execution_count": 18,
   "metadata": {},
   "outputs": [
    {
     "ename": "KeyError",
     "evalue": "3",
     "output_type": "error",
     "traceback": [
      "\u001b[0;31m---------------------------------------------------------------------------\u001b[0m",
      "\u001b[0;31mKeyError\u001b[0m                                  Traceback (most recent call last)",
      "\u001b[0;32m<ipython-input-18-08d2dee5b533>\u001b[0m in \u001b[0;36m<module>\u001b[0;34m\u001b[0m\n\u001b[0;32m----> 1\u001b[0;31m \u001b[0mtabla\u001b[0m\u001b[0;34m[\u001b[0m\u001b[0;36m3\u001b[0m\u001b[0;34m]\u001b[0m\u001b[0;34m\u001b[0m\u001b[0;34m\u001b[0m\u001b[0m\n\u001b[0m",
      "\u001b[0;31mKeyError\u001b[0m: 3"
     ]
    }
   ],
   "source": [
    "tabla[3]"
   ]
  },
  {
   "cell_type": "code",
   "execution_count": 20,
   "metadata": {},
   "outputs": [
    {
     "data": {
      "text/plain": [
       "False"
      ]
     },
     "execution_count": 20,
     "metadata": {},
     "output_type": "execute_result"
    }
   ],
   "source": [
    "3 in tabla"
   ]
  },
  {
   "cell_type": "code",
   "execution_count": 21,
   "metadata": {},
   "outputs": [
    {
     "data": {
      "text/plain": [
       "True"
      ]
     },
     "execution_count": 21,
     "metadata": {},
     "output_type": "execute_result"
    }
   ],
   "source": [
    "2 in tabla"
   ]
  },
  {
   "cell_type": "code",
   "execution_count": 29,
   "metadata": {},
   "outputs": [],
   "source": [
    "def fib2(n):\n",
    "    print (\"fib2\", n)\n",
    "    if n in tabla:\n",
    "        return tabla[n]\n",
    "    else:\n",
    "        ans = fib2(n-1) + fib2(n-2)\n",
    "        tabla[n] = ans\n",
    "        return ans"
   ]
  },
  {
   "cell_type": "code",
   "execution_count": 30,
   "metadata": {},
   "outputs": [
    {
     "name": "stdout",
     "output_type": "stream",
     "text": [
      "fib2 1\n"
     ]
    },
    {
     "data": {
      "text/plain": [
       "1"
      ]
     },
     "execution_count": 30,
     "metadata": {},
     "output_type": "execute_result"
    }
   ],
   "source": [
    "fib2(1)"
   ]
  },
  {
   "cell_type": "code",
   "execution_count": 31,
   "metadata": {},
   "outputs": [
    {
     "name": "stdout",
     "output_type": "stream",
     "text": [
      "fib2 54\n"
     ]
    },
    {
     "data": {
      "text/plain": [
       "86267571272"
      ]
     },
     "execution_count": 31,
     "metadata": {},
     "output_type": "execute_result"
    }
   ],
   "source": [
    "fib2(54)"
   ]
  },
  {
   "cell_type": "code",
   "execution_count": 35,
   "metadata": {},
   "outputs": [],
   "source": [
    "tabla = {1: 1, 2: 1}"
   ]
  },
  {
   "cell_type": "code",
   "execution_count": 36,
   "metadata": {
    "scrolled": false
   },
   "outputs": [
    {
     "name": "stdout",
     "output_type": "stream",
     "text": [
      "fib2 54\n",
      "fib2 53\n",
      "fib2 52\n",
      "fib2 51\n",
      "fib2 50\n",
      "fib2 49\n",
      "fib2 48\n",
      "fib2 47\n",
      "fib2 46\n",
      "fib2 45\n",
      "fib2 44\n",
      "fib2 43\n",
      "fib2 42\n",
      "fib2 41\n",
      "fib2 40\n",
      "fib2 39\n",
      "fib2 38\n",
      "fib2 37\n",
      "fib2 36\n",
      "fib2 35\n",
      "fib2 34\n",
      "fib2 33\n",
      "fib2 32\n",
      "fib2 31\n",
      "fib2 30\n",
      "fib2 29\n",
      "fib2 28\n",
      "fib2 27\n",
      "fib2 26\n",
      "fib2 25\n",
      "fib2 24\n",
      "fib2 23\n",
      "fib2 22\n",
      "fib2 21\n",
      "fib2 20\n",
      "fib2 19\n",
      "fib2 18\n",
      "fib2 17\n",
      "fib2 16\n",
      "fib2 15\n",
      "fib2 14\n",
      "fib2 13\n",
      "fib2 12\n",
      "fib2 11\n",
      "fib2 10\n",
      "fib2 9\n",
      "fib2 8\n",
      "fib2 7\n",
      "fib2 6\n",
      "fib2 5\n",
      "fib2 4\n",
      "fib2 3\n",
      "fib2 2\n",
      "fib2 1\n",
      "fib2 2\n",
      "fib2 3\n",
      "fib2 4\n",
      "fib2 5\n",
      "fib2 6\n",
      "fib2 7\n",
      "fib2 8\n",
      "fib2 9\n",
      "fib2 10\n",
      "fib2 11\n",
      "fib2 12\n",
      "fib2 13\n",
      "fib2 14\n",
      "fib2 15\n",
      "fib2 16\n",
      "fib2 17\n",
      "fib2 18\n",
      "fib2 19\n",
      "fib2 20\n",
      "fib2 21\n",
      "fib2 22\n",
      "fib2 23\n",
      "fib2 24\n",
      "fib2 25\n",
      "fib2 26\n",
      "fib2 27\n",
      "fib2 28\n",
      "fib2 29\n",
      "fib2 30\n",
      "fib2 31\n",
      "fib2 32\n",
      "fib2 33\n",
      "fib2 34\n",
      "fib2 35\n",
      "fib2 36\n",
      "fib2 37\n",
      "fib2 38\n",
      "fib2 39\n",
      "fib2 40\n",
      "fib2 41\n",
      "fib2 42\n",
      "fib2 43\n",
      "fib2 44\n",
      "fib2 45\n",
      "fib2 46\n",
      "fib2 47\n",
      "fib2 48\n",
      "fib2 49\n",
      "fib2 50\n",
      "fib2 51\n",
      "fib2 52\n"
     ]
    },
    {
     "data": {
      "text/plain": [
       "86267571272"
      ]
     },
     "execution_count": 36,
     "metadata": {},
     "output_type": "execute_result"
    }
   ],
   "source": [
    "fib2(54)"
   ]
  },
  {
   "cell_type": "code",
   "execution_count": 37,
   "metadata": {},
   "outputs": [
    {
     "data": {
      "text/plain": [
       "{1: 1,\n",
       " 2: 1,\n",
       " 3: 2,\n",
       " 4: 3,\n",
       " 5: 5,\n",
       " 6: 8,\n",
       " 7: 13,\n",
       " 8: 21,\n",
       " 9: 34,\n",
       " 10: 55,\n",
       " 11: 89,\n",
       " 12: 144,\n",
       " 13: 233,\n",
       " 14: 377,\n",
       " 15: 610,\n",
       " 16: 987,\n",
       " 17: 1597,\n",
       " 18: 2584,\n",
       " 19: 4181,\n",
       " 20: 6765,\n",
       " 21: 10946,\n",
       " 22: 17711,\n",
       " 23: 28657,\n",
       " 24: 46368,\n",
       " 25: 75025,\n",
       " 26: 121393,\n",
       " 27: 196418,\n",
       " 28: 317811,\n",
       " 29: 514229,\n",
       " 30: 832040,\n",
       " 31: 1346269,\n",
       " 32: 2178309,\n",
       " 33: 3524578,\n",
       " 34: 5702887,\n",
       " 35: 9227465,\n",
       " 36: 14930352,\n",
       " 37: 24157817,\n",
       " 38: 39088169,\n",
       " 39: 63245986,\n",
       " 40: 102334155,\n",
       " 41: 165580141,\n",
       " 42: 267914296,\n",
       " 43: 433494437,\n",
       " 44: 701408733,\n",
       " 45: 1134903170,\n",
       " 46: 1836311903,\n",
       " 47: 2971215073,\n",
       " 48: 4807526976,\n",
       " 49: 7778742049,\n",
       " 50: 12586269025,\n",
       " 51: 20365011074,\n",
       " 52: 32951280099,\n",
       " 53: 53316291173,\n",
       " 54: 86267571272}"
      ]
     },
     "execution_count": 37,
     "metadata": {},
     "output_type": "execute_result"
    }
   ],
   "source": [
    "tabla"
   ]
  },
  {
   "cell_type": "code",
   "execution_count": null,
   "metadata": {},
   "outputs": [],
   "source": []
  }
 ],
 "metadata": {
  "kernelspec": {
   "display_name": "Python 3",
   "language": "python",
   "name": "python3"
  },
  "language_info": {
   "codemirror_mode": {
    "name": "ipython",
    "version": 3
   },
   "file_extension": ".py",
   "mimetype": "text/x-python",
   "name": "python",
   "nbconvert_exporter": "python",
   "pygments_lexer": "ipython3",
   "version": "3.7.6"
  }
 },
 "nbformat": 4,
 "nbformat_minor": 4
}
