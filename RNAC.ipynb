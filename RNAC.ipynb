{
 "cells": [
  {
   "cell_type": "code",
   "execution_count": 9,
   "metadata": {},
   "outputs": [],
   "source": [
    "\n",
    "def Complement(seq):\n",
    "    strand = [ ]\n",
    "\n",
    "    for base in seq:\n",
    "\n",
    "        if base == 'A':\n",
    "          strand.append('T')\n",
    "\n",
    "        if base == 'C':\n",
    "          strand.append('G')\n",
    "\n",
    "        if base == 'G':\n",
    "          strand.append('C')\n",
    "\n",
    "        if base == 'T':\n",
    "          strand.append('A')\n",
    "        \n",
    "    strand.reverse()\n",
    "    complement = ''.join(strand)\n",
    "\n",
    "    return complement\n"
   ]
  },
  {
   "cell_type": "code",
   "execution_count": 10,
   "metadata": {},
   "outputs": [
    {
     "data": {
      "text/plain": [
       "'ACCGGGTTTT'"
      ]
     },
     "execution_count": 10,
     "metadata": {},
     "output_type": "execute_result"
    }
   ],
   "source": [
    "Complement(\"AAAACCCGGT\")"
   ]
  },
  {
   "cell_type": "code",
   "execution_count": 6,
   "metadata": {},
   "outputs": [],
   "source": [
    "strand = [\"a\", \"c\", \"g\"]"
   ]
  },
  {
   "cell_type": "code",
   "execution_count": 7,
   "metadata": {},
   "outputs": [],
   "source": [
    "strand.reverse()"
   ]
  },
  {
   "cell_type": "code",
   "execution_count": 8,
   "metadata": {},
   "outputs": [
    {
     "data": {
      "text/plain": [
       "['g', 'c', 'a']"
      ]
     },
     "execution_count": 8,
     "metadata": {},
     "output_type": "execute_result"
    }
   ],
   "source": [
    "strand"
   ]
  },
  {
   "cell_type": "code",
   "execution_count": 11,
   "metadata": {},
   "outputs": [
    {
     "data": {
      "text/plain": [
       "'GGACTTGCCCCTCAAGCCCGACCACCTGGTTGTGACACAGAGTCCGACACGCTCCCGCATATAATAAAGATGCTGGCCTCCATCCATTGGGACAGCCCCTCGTTCATAAACCAAAATCCCGCGAGCGTCCTAGAAATGAGGATTCACGGGTACTCCCCTTAAGCTCCGAGTCACAAAGGTCAATAGGAGGGCCCGTAGACAGGTGTACATTCGGGGCATTCTGTAGTGCGTTAACGAACGAAGGCAACAGAGCGAGTCCAGGAGCAATTCCCTTCTGGTCGCTGCCATTGGAACCAATGGGGGATACCCAGTTTCCAAGAAAAAGGCAAACTCGTCAGTTGTACACTGTTGACTCCAAGGAAGATTGCTGCTCCGCTAACAGGGCATGAGTTAGGGCTCATTGTTGTCTCAACCCGTCAGATGACGTTAATCATGTCTTGTTAGATCGGTTCACTAACTACCGACCCTATCGCCTGGAACGAAAGTGCTCTTGTGCACACCCTCCAAATTTAACGAGCGCCGACATCGTCGGAGTGACACCTGCACCTTGAGGACTCGCCTCCGCATCCTTGGCAAGTTTGTGCGGTGGGGTACCGTGGACACGTTAGGAACCGCAGTAGCGCTCGGTCCGGTCTTGTGGTCGGCTCCTTCAATACCCGCAAAGGCAAGGCCTTACCTCTACGTGGAGTTCAGGTAGGATGAGTGCGAGCCGTCTGCTACAGAAGGCTGAGAGTCGTGCTCGTACACCTCCCCCGCTTCAGTCTCTAGGCAACTGGCGTTTCTTTTGCTACCTCTCACGTCATTCATTTCGGTAGCGTGACTGAGTACGTAAGCGGGCAGTTCCAGGGGGTCCCAGGAAATTGCACATGCTACTCTTATCTGCTGGTCCGCTGAGCGACAGAGGTCGGACTGTGATTTCAATCCGTGACATTGAAAGCCTAGGCTGGCCAACGTGGCGGGGAATCTCGTGAATATGTAAC'"
      ]
     },
     "execution_count": 11,
     "metadata": {},
     "output_type": "execute_result"
    }
   ],
   "source": [
    "Complement(\"GTTACATATTCACGAGATTCCCCGCCACGTTGGCCAGCCTAGGCTTTCAATGTCACGGATTGAAATCACAGTCCGACCTCTGTCGCTCAGCGGACCAGCAGATAAGAGTAGCATGTGCAATTTCCTGGGACCCCCTGGAACTGCCCGCTTACGTACTCAGTCACGCTACCGAAATGAATGACGTGAGAGGTAGCAAAAGAAACGCCAGTTGCCTAGAGACTGAAGCGGGGGAGGTGTACGAGCACGACTCTCAGCCTTCTGTAGCAGACGGCTCGCACTCATCCTACCTGAACTCCACGTAGAGGTAAGGCCTTGCCTTTGCGGGTATTGAAGGAGCCGACCACAAGACCGGACCGAGCGCTACTGCGGTTCCTAACGTGTCCACGGTACCCCACCGCACAAACTTGCCAAGGATGCGGAGGCGAGTCCTCAAGGTGCAGGTGTCACTCCGACGATGTCGGCGCTCGTTAAATTTGGAGGGTGTGCACAAGAGCACTTTCGTTCCAGGCGATAGGGTCGGTAGTTAGTGAACCGATCTAACAAGACATGATTAACGTCATCTGACGGGTTGAGACAACAATGAGCCCTAACTCATGCCCTGTTAGCGGAGCAGCAATCTTCCTTGGAGTCAACAGTGTACAACTGACGAGTTTGCCTTTTTCTTGGAAACTGGGTATCCCCCATTGGTTCCAATGGCAGCGACCAGAAGGGAATTGCTCCTGGACTCGCTCTGTTGCCTTCGTTCGTTAACGCACTACAGAATGCCCCGAATGTACACCTGTCTACGGGCCCTCCTATTGACCTTTGTGACTCGGAGCTTAAGGGGAGTACCCGTGAATCCTCATTTCTAGGACGCTCGCGGGATTTTGGTTTATGAACGAGGGGCTGTCCCAATGGATGGAGGCCAGCATCTTTATTATATGCGGGAGCGTGTCGGACTCTGTGTCACAACCAGGTGGTCGGGCTTGAGGGGCAAGTCC\")"
   ]
  },
  {
   "cell_type": "code",
   "execution_count": null,
   "metadata": {},
   "outputs": [],
   "source": []
  }
 ],
 "metadata": {
  "kernelspec": {
   "display_name": "Python 3",
   "language": "python",
   "name": "python3"
  },
  "language_info": {
   "codemirror_mode": {
    "name": "ipython",
    "version": 3
   },
   "file_extension": ".py",
   "mimetype": "text/x-python",
   "name": "python",
   "nbconvert_exporter": "python",
   "pygments_lexer": "ipython3",
   "version": "3.7.6"
  }
 },
 "nbformat": 4,
 "nbformat_minor": 4
}
