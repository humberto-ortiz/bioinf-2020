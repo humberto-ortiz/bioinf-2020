{
 "cells": [
  {
   "cell_type": "code",
   "execution_count": 1,
   "metadata": {},
   "outputs": [],
   "source": [
    "def motif(s, t):\n",
    "\n",
    "     locations = []\n",
    "     count = 0\n",
    "     loc = 0\n",
    "\n",
    "     while (count < len(s)):\n",
    "       loc = s.find(t, count)\n",
    "       if (loc > 0):\n",
    "          count = loc + 1\n",
    "          locations.append(loc + 1)\n",
    "       else:\n",
    "          count = count + 1\n",
    "     result = ' '.join(map(str,locations))\n",
    "\n",
    "     return result"
   ]
  },
  {
   "cell_type": "code",
   "execution_count": 2,
   "metadata": {},
   "outputs": [],
   "source": [
    "s = \"GATATATGCATATACTT\"\n",
    "t = \"ATAT\""
   ]
  },
  {
   "cell_type": "code",
   "execution_count": 3,
   "metadata": {},
   "outputs": [
    {
     "data": {
      "text/plain": [
       "'2 4 10'"
      ]
     },
     "execution_count": 3,
     "metadata": {},
     "output_type": "execute_result"
    }
   ],
   "source": [
    "motif(s, t)"
   ]
  },
  {
   "cell_type": "code",
   "execution_count": 4,
   "metadata": {},
   "outputs": [],
   "source": [
    "def motifs2(s,t):\n",
    "    locations = []\n",
    "    \n",
    "    for i in range(len(s)-len(t)):\n",
    "        if t == s[i:i+len(t)]:\n",
    "            locations.append(i+1)\n",
    "    result = ' '.join(map(str,locations))\n",
    "    return result"
   ]
  },
  {
   "cell_type": "code",
   "execution_count": 5,
   "metadata": {},
   "outputs": [
    {
     "data": {
      "text/plain": [
       "'2 4 10'"
      ]
     },
     "execution_count": 5,
     "metadata": {},
     "output_type": "execute_result"
    }
   ],
   "source": [
    "motifs2(s, t)"
   ]
  },
  {
   "cell_type": "code",
   "execution_count": 6,
   "metadata": {},
   "outputs": [
    {
     "data": {
      "text/plain": [
       "'180 213 261 281 304 336 369 384 442 470 487 502 518 577 584 618 665 702 777 822'"
      ]
     },
     "execution_count": 6,
     "metadata": {},
     "output_type": "execute_result"
    }
   ],
   "source": [
    "motifs2(\"TCCCAGATATCTTTTTCCTATGGAGATATCCTGAGATATCCGGGCGAGATATCTTGAGATATCTTATAGATATCGGTACAGATATCAAAGATATCATGAGCAGATATCCATAGATATCCCCAGATATCGATTGCACTGAGATATCAACCGAGATATCCAGATATCTTGGAAGATATCTCAGATATCAGATATCGATAGATATCGGGAGACACAGATATCAGATATCAAAGATATCAAGATATCAAAAGACCAGAGAACAGAGATATCAGCAATAGCTGCGAGATATCAGATATCTAGATATCCAGATATCAGATATCTAGATATCCAGATATCTTAGATATCAGATATCTCCTCGCTTGCAGATATCAAGATATCAGATATCCAGATATCAGTTAGATATCGGAGATATCGAGATATCTTGAGATATCTGGCTAGATATCAAGATATCAGATATCTAACCAAAGGGCACAGATATCAGATATCCTAAGATATCAGATATCGAGATATCAGATATCGGAGATATCAGATATCACCAGGGAGATATCAAGATATCAAGATATCGGATCTGAGATATCTAGATATCAGATATCAGATATCTGGCGGACAGATATCCGACAAGATATCAGATATCCTTACAGTAGATATCGATACGTAGATATCGATAAGATATCAGATATCGAGATATCCTAAAGATATCTTTTAGATATCAGATATCCCATGGCTAGATATCCGCGAGATATCGCCGTGAAGATATCCTGCGACTCAGATATCCCAAAAGATATCAGTATGAGATATCTAGAGATATCTCTTGAGATATCGTTAGATATCAGATATCGAGATATCAAGATATCA\",\"AGATATCAG\")"
   ]
  },
  {
   "cell_type": "code",
   "execution_count": null,
   "metadata": {},
   "outputs": [],
   "source": []
  }
 ],
 "metadata": {
  "kernelspec": {
   "display_name": "Python 3",
   "language": "python",
   "name": "python3"
  },
  "language_info": {
   "codemirror_mode": {
    "name": "ipython",
    "version": 3
   },
   "file_extension": ".py",
   "mimetype": "text/x-python",
   "name": "python",
   "nbconvert_exporter": "python",
   "pygments_lexer": "ipython3",
   "version": "3.7.6"
  }
 },
 "nbformat": 4,
 "nbformat_minor": 4
}
